{
  "cells": [
    {
      "cell_type": "markdown",
      "metadata": {
        "id": "B4u2x5OBsms9"
      },
      "source": [
        "# Moderation Engine ⌨\n",
        "\n"
      ]
    },
    {
      "cell_type": "markdown",
      "metadata": {
        "id": "zHxkiKX1GjiP"
      },
      "source": [
        "Imagine you’ve been hired by a team building the next big social media platform — think Instagram meets Reddit, but with a twist: you’re in charge of keeping it clean.\n",
        "\n",
        "Your mission? Design a Moderation Engine.\n",
        "\n",
        "This engine will scan user posts for sensitive or inappropriate words and take action accordingly — warning users, banning repeat offenders, and allowing safe content to be stored.\n",
        "\n",
        "<br>\n",
        "\n",
        "**What You’ll Be Building**\n",
        "\n",
        "---\n",
        "\n",
        "You’ll write a series of small Python functions to:\n",
        "\n",
        "* Detect and flag posts that contain banned words.\n",
        "\n",
        "* Track user offenses and apply escalating penalties.\n",
        "\n",
        "* Search through clean posts for any keyword.\n",
        "\n",
        "\n",
        "**What You’ll Practice**\n",
        "\n",
        "---\n",
        "\n",
        "* Writing functions with parameters and conditionals.\n",
        "\n",
        "* Using lists and dictionaries (please search up what these are if you not aware on how to use them) to store data.\n",
        "\n",
        "* Handling case-insensitive string matching.\n",
        "\n",
        "* Thinking like a real-world developer working on content moderation tools.\n",
        "\n",
        "\n",
        "\n",
        "## 🚩 Task 1: Flagging Inappropriate Posts\n",
        "\n",
        "You need to write a **function** called `flag_post(post: str, user_id: str) -> None` that:\n",
        "- Checks if the `post` contains any of the **banned strings** listed below (case-insensitive).\n",
        "- If any banned string is found:\n",
        "  - Increment the user's flag count.\n",
        "  - Print: `\"Flagged! This is your Xth offense.\"`\n",
        "- If **no banned string** is found:\n",
        "  - Save the post to the `store` list for future reference.\n",
        "\n",
        "Use the list of banned strings provided below:\n",
        "```python\n",
        "banned_strings = [\"Rainbows\", \"Dolphins\", \"Cupcakes\", \"Sparkles\", \"Sunshine\",\n",
        "                  \"Puppies\", \"Smile\", \"Picnics\", \"Grass\", \"Ice cream\", \"Poetry\", \"Daydream\"]\n"
      ]
    },
    {
      "cell_type": "code",
      "execution_count": null,
      "metadata": {
        "id": "y3tpOimaIvYC"
      },
      "outputs": [],
      "source": [
        "#example of flagging:\n",
        "\n",
        "flag_post(\"I love ice cream and puppies\", \"user123\")\n",
        "# Output: Flagged! This is your 1st offense.\n",
        "\n",
        "flag_post(\"I enjoy stargazing\", \"user123\")\n",
        "# No output, but post is saved to `store`\n",
        "\n"
      ]
    },
    {
      "cell_type": "code",
      "execution_count": null,
      "metadata": {
        "id": "mQ434nUONZ8j"
      },
      "outputs": [],
      "source": [
        "#Global variables\n",
        "store =[]\n",
        "users_flags={} #This is a dictionary. This is what it lookss like in user: user_flags = {\"user123\": 0, \"user456\": 1, \"user789\": 3}\n",
        "def flag_post(post,user_id):\n",
        "    global users_flags\n",
        "    global store\n",
        "    while True:\n",
        "        temp=post.split()\n",
        "        for i in temp:\n",
        "            if i.lower() in [\"rainbows\",\"dolphins\",\"cupcakes\"]:\n",
        "                if user_id not in users_flags:\n",
        "                    users_flags[user_id]=1\n",
        "                    print(f\"bruh!, this is ur {users_flags[user_id]} warning! \")                   \n",
        "                else:\n",
        "                    users_flags[user_id]+=1\n",
        "                    print(f\"bruh!, this is ur {users_flags[user_id]} warning! \")\n",
        "                break\n",
        "            else:\n",
        "                if user_id not in users_flags:\n",
        "                    users_flags[user_id]=0\n",
        "                else:\n",
        "                    pass\n",
        "                if users_flags[user_id]>=3:\n",
        "                    print(\"nice try bruh!, but u r banned.\")\n",
        "                else:\n",
        "                    store.append(post)\n",
        "                    print(\"success\")\n",
        "                break\n",
        "        break\n",
        "flag_post(\"Cupcakes are gud\",\"ravi\")\n",
        "flag_post(\"CUpcaKES are fabulous\",\"ravi\")   \n",
        "flag_post(\"CUpcaKES are fabulous\",\"ravi\")\n",
        "flag_post(\"u r are fabulous\",\"ravi\") \n",
        "print(store,users_flags)\n"
      ]
    },
    {
      "cell_type": "markdown",
      "metadata": {
        "id": "F6VnbBisvWlt"
      },
      "source": [
        "## ❗ Task 2: Penalize Repeat Offenders\n",
        "\n",
        "Now that your moderation engine can flag inappropriate posts and track how many times a user has violated the rules, it's time to **introduce penalties**.\n",
        "\n",
        "You need to write a function `get_penalty(user_id: str) -> str` that checks the number of times a user has been flagged and returns a suitable penalty message.\n",
        "\n",
        "### Rules:\n",
        "- If the user has been flagged **0 times**: return `'No flags! All good.'`\n",
        "- If the user has been flagged **1 or 2 times**: return `'Warning issued.'`\n",
        "- If the user has been flagged **3 or more times**: return `'User is banned!'`\n",
        "\n",
        "Use the `user_flags` dictionary from Task 1 to access the user's offense count.\n",
        "\n",
        "---\n",
        "\n",
        "### 🧪 Example:\n",
        "```python\n",
        "\n",
        "flag_post(\"I love rainbows\", \"user789\")   \n",
        "flag_post(\"I like cupcakes\", \"user789\")   \n",
        "flag_post(\"Sunshine is nice\", \"user456\")\n",
        "flag_post(\"We're having a picnic\", \"user789\")   \n",
        "flag_post(\"I enjoy stargazing\", \"user123\")  \n",
        "\n",
        "\n",
        "# This is what the dictionary would look like after these calls:\n",
        "# user_flags = {\"user123\": 0, \"user456\": 1, \"user789\": 3}\n",
        "\n",
        "print(get_penalty(\"user456\"))  # Output: 'User is banned!'\n",
        "\n",
        "get_penalty(\"user123\")\n",
        "# Output: 'No flags! All good.'\n",
        "\n",
        "get_penalty(\"user456\")\n",
        "# Output: 'Warning issued.'\n",
        "\n",
        "get_penalty(\"user789\")\n",
        "# Output: 'User is banned!'\n"
      ]
    },
    {
      "cell_type": "code",
      "execution_count": null,
      "metadata": {
        "id": "ckvMrXBxyLvu"
      },
      "outputs": [],
      "source": [
        "#code here\n",
        "def get_penalty(user_id):\n",
        "    if users_flags[user_id] == 0:\n",
        "        print(\"all good\")\n",
        "    elif users_flags[user_id] in [1,2]:\n",
        "        print(\"warning issued\")\n",
        "    else:\n",
        "        print(f\"destroyed {user_id}\")\n",
        "get_penalty(\"diddy\")\n",
        "\n",
        "\n"
      ]
    },
    {
      "cell_type": "markdown",
      "metadata": {
        "id": "tusrN-zHyMFM"
      },
      "source": [
        "## 🔍 Task 3: Search Through Clean Posts\n",
        "\n",
        "Your platform is now flagging harmful content and penalizing users — great job! But what about people who want to find wholesome, positive posts?\n",
        "\n",
        "You need to build a **search feature** that lets users look through all the previously **approved (non-flagged)** posts stored in `store`.\n",
        "\n",
        "---\n",
        "\n",
        "### 🔧 Your Task:\n",
        "Write a function `search(keyword: str) -> list` that:\n",
        "- Goes through every post in the `store` list.\n",
        "- Returns a **list of posts** that contain the given keyword.\n",
        "- The match should be **case-insensitive**.\n",
        "\n",
        "---\n",
        "\n",
        "### 🧪 Example:\n",
        "```python\n",
        "store = [\n",
        "    \"What a beautiful day for a hike!\",\n",
        "    \"Starry nights are the best.\",\n",
        "    \"I love stargazing and long walks.\"\n",
        "]\n",
        "\n",
        "search(\"star\")\n",
        "# Output: ['Starry nights are the best.', 'I love stargazing and long walks.']\n"
      ]
    },
    {
      "cell_type": "code",
      "execution_count": null,
      "metadata": {
        "id": "enFl5e_WNYen"
      },
      "outputs": [],
      "source": [
        "#code here\n",
        "def search(k):\n",
        "    global store\n",
        "    l = []\n",
        "    for i in store:\n",
        "        t=i.split()\n",
        "        if k in t:\n",
        "            print(i)\n",
        "search(\"fabulous\")\n",
        "\n",
        "\n",
        "\n",
        "\n"
      ]
    },
    {
      "cell_type": "markdown",
      "metadata": {
        "id": "83jDAJ_eSK7V"
      },
      "source": [
        "### 🎁 Challenge: There is still an issue with our moderation system...\n",
        "\n",
        "banned users can still share clean posts online which get added to store and can be searched up. Modify your `flag_post` function to ensure that posts from banned users cannot be stored if they have been banned."
      ]
    }
  ],
  "metadata": {
    "colab": {
      "provenance": []
    },
    "kernelspec": {
      "display_name": "Python 3",
      "name": "python3"
    },
    "language_info": {
      "name": "python"
    }
  },
  "nbformat": 4,
  "nbformat_minor": 0
}

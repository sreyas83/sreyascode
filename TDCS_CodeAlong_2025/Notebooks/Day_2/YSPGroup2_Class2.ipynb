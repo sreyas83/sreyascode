{
 "cells": [
  {
   "cell_type": "markdown",
   "id": "5f841650",
   "metadata": {},
   "source": [
    "# Targeted Travel Ads: Advanced String & Array Operations"
   ]
  },
  {
   "cell_type": "markdown",
   "id": "d62e57c3",
   "metadata": {},
   "source": [
    "You're part of a travel tech company that uses Python to process and analyze user data to optimize ad targeting. Use **intermediate string and list operations** to transform and extract valuable insights from the data.\n",
    "\n",
    "**Constraints:** No loops. Use indexing, slicing, string methods, and other built-in operations."
   ]
  },
  {
   "cell_type": "markdown",
   "id": "0a6d126e",
   "metadata": {},
   "source": [
    "## Task 1: Standardize Usernames\n",
    "Given a comma-separated string of usernames, convert them to lowercase and remove any leading or trailing spaces. \n",
    "\n",
    "DO NOT USE LOOPS. You can use different built-in string and array functions as a workaround. "
   ]
  },
  {
   "cell_type": "code",
   "execution_count": null,
   "id": "e30cbb58",
   "metadata": {},
   "outputs": [],
   "source": [
    "raw_users = [\" Amuro1979\" , \"ZETA_KAMILLE\" , \"JudauAshta\" ,  \"pilot4unicorn\" ,\"Mafty \"]\n",
    "\n",
    "# Example: we want to convert a username \"MiLeY\" to \"miley\"\n",
    "# Use the space below to write your code \n",
    "raw_users[0]= raw_users[0].strip()\n",
    "raw_users[1]= raw_users[0].strip()\n",
    "raw_users[2]= raw_users[0].strip()\n",
    "raw_users[3]= raw_users[0].strip()\n",
    "raw_users[4]= raw_users[0].strip()\n",
    "raw_users[1]= raw_users.lower()\n",
    "raw_users[2]= raw_users.lower()\n",
    "raw_users[3]= raw_users.lower()\n",
    "raw_users[4]= raw_users.lower()"
   ]
  },
  {
   "cell_type": "markdown",
   "id": "9346817f",
   "metadata": {},
   "source": [
    "## Task 2: Extract and Reconstruct Locations\n",
    "Given a list with mixed format data for each user’s preferred location, extract just the city name and create a clean sentence."
   ]
  },
  {
   "cell_type": "code",
   "execution_count": null,
   "id": "307ade7a",
   "metadata": {},
   "outputs": [
    {
     "name": "stdout",
     "output_type": "stream",
     "text": [
      "5\n"
     ]
    },
    {
     "data": {
      "text/plain": [
       "['Tokyo', 'New York', 'Paris', 'Rio', 'Cape Town']"
      ]
     },
     "execution_count": 7,
     "metadata": {},
     "output_type": "execute_result"
    }
   ],
   "source": [
    "locations = [\"City:Tokyo\", \"City:New York\", \"City:Paris\", \"City:Rio\", \"City:Cape Town\"]\n",
    "# Example: from \"City:Mumbai\", we want to extract \"Mumbai\"\n",
    "# Your code below:\n",
    "for i in list1:\n",
    "    print(i[5::1])\n",
    "    "
   ]
  },
  {
   "cell_type": "markdown",
   "id": "561650ae",
   "metadata": {},
   "source": [
    "## Task 3: Target Keyword Match\n",
    "Given a user’s profile description, extract and format the keywords related to travel. Assume all travel-related keywords are enclosed in `#`."
   ]
  },
  {
   "cell_type": "code",
   "execution_count": null,
   "id": "8da8e40a",
   "metadata": {},
   "outputs": [],
   "source": [
    "profile = \"Explorer of #culture#, lover of #beaches#, passionate about #adventures#.\"\n",
    "\n",
    "# Example: if profile =\" We bought a #backpack#\", we would want to extract \"backpack\"\n",
    "# Your code below:\n",
    "print(profile[13:20], profile[33:40], profile[61:71])\n"
   ]
  },
  {
   "cell_type": "markdown",
   "id": "0c3d29d4",
   "metadata": {},
   "source": [
    "## Task 4: Merge Interest Tags\n",
    "Two users have their travel interest tags. Merge them into a single list without duplicates and sort alphabetically."
   ]
  },
  {
   "cell_type": "code",
   "execution_count": null,
   "id": "ebd8ced4",
   "metadata": {},
   "outputs": [],
   "source": [
    "user1_tags = [\"mountains\", \"beach\", \"desert\", \"city\"]\n",
    "user2_tags = [\"beach\", \"culture\", \"mountains\", \"safari\"]\n",
    "\n",
    "# Example: user1_tags = [\"cycling\", \"hiking\"], user2_tags=[\"swimming\", \"cycling\"], we want to create a combine_tags=[\"cycling\", \"hiking\", \"swimming\"]\n",
    "# Your code below:\n",
    "for i in user1_tags:\n",
    "    if i not in user2_tags:\n",
    "        user2_tags.append(i)\n",
    "user2_tags.sort()\n",
    "print(user2_tags)"
   ]
  },
  {
   "cell_type": "markdown",
   "id": "7bda694b",
   "metadata": {},
   "source": [
    "## Task 5: Masking Usernames\n",
    "You want to show partially anonymized usernames in reports. Show only the first 3 characters followed by `***`."
   ]
  },
  {
   "cell_type": "code",
   "execution_count": null,
   "id": "d1a85797",
   "metadata": {},
   "outputs": [],
   "source": [
    "usernames = [\"amuro1979\", \"zeta_kamille\", \"judauashta\", \"pilot4unicorn\", \"mafty\"]\n",
    "\n",
    "# Example: \"Roshni\" would get converted to \"Ros***\"\n",
    "# Your code below:\n",
    "for i in usernames:\n",
    "    new_unames.append(i[0:3] + \"*\"*(len(i)-3))\n",
    "print(new_unames)   \n",
    "\n"
   ]
  }
 ],
 "metadata": {
  "colab": {
   "provenance": []
  },
  "kernelspec": {
   "display_name": "Python 3",
   "name": "python3"
  },
  "language_info": {
   "codemirror_mode": {
    "name": "ipython",
    "version": 3
   },
   "file_extension": ".py",
   "mimetype": "text/x-python",
   "name": "python",
   "nbconvert_exporter": "python",
   "pygments_lexer": "ipython3",
   "version": "3.12.4"
  }
 },
 "nbformat": 4,
 "nbformat_minor": 0
}
